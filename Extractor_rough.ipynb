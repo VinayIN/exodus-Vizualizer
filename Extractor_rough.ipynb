{
 "cells": [
  {
   "cell_type": "code",
   "execution_count": 1,
   "metadata": {},
   "outputs": [],
   "source": [
    "import requests\n",
    "import pandas as pd\n",
    "import numpy as np\n",
    "from tqdm import tqdm"
   ]
  },
  {
   "cell_type": "code",
   "execution_count": 2,
   "metadata": {},
   "outputs": [],
   "source": [
    "def json_extractor(token: str='', category: str=None, handle: str=None):\n",
    "    auth = ('Token',token)\n",
    "    try:\n",
    "        if category is not None:\n",
    "            if category=='application':\n",
    "                url = 'https://reports.exodus-privacy.eu.org/api/applications'\n",
    "                return requests.get(url,auth=auth).json()\n",
    "            if category=='tracker':\n",
    "                url = 'https://reports.exodus-privacy.eu.org/api/trackers'\n",
    "                return requests.get(url,auth=auth).json()\n",
    "            else:\n",
    "                raise KeyError(category)\n",
    "                \n",
    "        if handle is not None:\n",
    "            url = 'https://reports.exodus-privacy.eu.org/api/search/{}'.format(handle)\n",
    "            return requests.get(url,auth=auth).json()\n",
    "        else:\n",
    "            raise KeyError(\"Needed either category or handle parameter\")\n",
    "    except:\n",
    "        return {}\n",
    "    return None "
   ]
  },
  {
   "cell_type": "code",
   "execution_count": 3,
   "metadata": {},
   "outputs": [],
   "source": [
    "apps = json_extractor(category = 'application')\n",
    "app_data = pd.DataFrame(data=[pd.Series([x.get('handle') for x in apps['applications']], name='handle'),\n",
    "                              pd.Series([x.get('name') for x in apps['applications']], name='app_name')]).transpose()\n",
    "app_data['app_name'] = app_data.app_name.apply(lambda x: x if len(x)>1 else 'NOT PROVIDED')"
   ]
  },
  {
   "cell_type": "code",
   "execution_count": 4,
   "metadata": {},
   "outputs": [],
   "source": [
    "trackers = json_extractor(category = 'tracker')\n",
    "tracker_data = pd.DataFrame(pd.Series(trackers['trackers']).apply(pd.Series),columns = ['id','name','creation_date'])\n",
    "tracker_data['creation_date'] = tracker_data.creation_date.astype('datetime64[ns]')\n",
    "tracker_data.rename(columns={'name':'tracker_name','id':'tracker_id'},inplace=True)"
   ]
  },
  {
   "cell_type": "code",
   "execution_count": 5,
   "metadata": {},
   "outputs": [],
   "source": [
    "app_data.set_index('handle',inplace=True)\n",
    "tracker_data.set_index('tracker_id',inplace=True)"
   ]
  },
  {
   "cell_type": "code",
   "execution_count": 6,
   "metadata": {},
   "outputs": [],
   "source": [
    "app_data = app_data.sample(50)"
   ]
  },
  {
   "cell_type": "code",
   "execution_count": 7,
   "metadata": {},
   "outputs": [
    {
     "data": {
      "text/html": [
       "<div>\n",
       "<style scoped>\n",
       "    .dataframe tbody tr th:only-of-type {\n",
       "        vertical-align: middle;\n",
       "    }\n",
       "\n",
       "    .dataframe tbody tr th {\n",
       "        vertical-align: top;\n",
       "    }\n",
       "\n",
       "    .dataframe thead th {\n",
       "        text-align: right;\n",
       "    }\n",
       "</style>\n",
       "<table border=\"1\" class=\"dataframe\">\n",
       "  <thead>\n",
       "    <tr style=\"text-align: right;\">\n",
       "      <th></th>\n",
       "      <th>app_name</th>\n",
       "    </tr>\n",
       "    <tr>\n",
       "      <th>handle</th>\n",
       "      <th></th>\n",
       "    </tr>\n",
       "  </thead>\n",
       "  <tbody>\n",
       "    <tr>\n",
       "      <th>com.hitlabs.pronto</th>\n",
       "      <td>Pronto - Team Communication &amp; Messaging App</td>\n",
       "    </tr>\n",
       "    <tr>\n",
       "      <th>com.acesoft.ITCertifications.ISACA.CISM</th>\n",
       "      <td>CISM</td>\n",
       "    </tr>\n",
       "  </tbody>\n",
       "</table>\n",
       "</div>"
      ],
      "text/plain": [
       "                                                                            app_name\n",
       "handle                                                                              \n",
       "com.hitlabs.pronto                       Pronto - Team Communication & Messaging App\n",
       "com.acesoft.ITCertifications.ISACA.CISM                                         CISM"
      ]
     },
     "execution_count": 7,
     "metadata": {},
     "output_type": "execute_result"
    }
   ],
   "source": [
    "app_data.head(2)"
   ]
  },
  {
   "cell_type": "code",
   "execution_count": 8,
   "metadata": {},
   "outputs": [
    {
     "name": "stderr",
     "output_type": "stream",
     "text": [
      "100%|██████████| 50/50 [00:48<00:00,  1.10it/s]\n"
     ]
    }
   ],
   "source": [
    "## detailed extraction\n",
    "df=pd.DataFrame()\n",
    "for x in tqdm(app_data.index):\n",
    "    try:\n",
    "        data = json_extractor(handle=x)[x]\n",
    "        b = pd.DataFrame(data.get('reports')[0])[['version','updated_at', 'trackers', 'downloads']]\n",
    "        b['handle'] = x\n",
    "    except KeyError:\n",
    "        continue\n",
    "    df = pd.concat([df,b],axis=0)\n",
    "df.rename(columns={'trackers':'tracker_id'},inplace=True)\n",
    "df['tracker_id'] = df.tracker_id.astype('int')"
   ]
  },
  {
   "cell_type": "code",
   "execution_count": 9,
   "metadata": {},
   "outputs": [
    {
     "data": {
      "text/plain": [
       "Index(['version', 'updated_at', 'tracker_id', 'downloads', 'handle'], dtype='object')"
      ]
     },
     "execution_count": 9,
     "metadata": {},
     "output_type": "execute_result"
    }
   ],
   "source": [
    "df.columns"
   ]
  },
  {
   "cell_type": "code",
   "execution_count": 10,
   "metadata": {},
   "outputs": [
    {
     "data": {
      "text/html": [
       "<div>\n",
       "<style scoped>\n",
       "    .dataframe tbody tr th:only-of-type {\n",
       "        vertical-align: middle;\n",
       "    }\n",
       "\n",
       "    .dataframe tbody tr th {\n",
       "        vertical-align: top;\n",
       "    }\n",
       "\n",
       "    .dataframe thead th {\n",
       "        text-align: right;\n",
       "    }\n",
       "</style>\n",
       "<table border=\"1\" class=\"dataframe\">\n",
       "  <thead>\n",
       "    <tr style=\"text-align: right;\">\n",
       "      <th></th>\n",
       "      <th>version</th>\n",
       "      <th>updated_at</th>\n",
       "      <th>tracker_id</th>\n",
       "      <th>downloads</th>\n",
       "      <th>handle</th>\n",
       "    </tr>\n",
       "  </thead>\n",
       "  <tbody>\n",
       "    <tr>\n",
       "      <th>0</th>\n",
       "      <td>1.0.262</td>\n",
       "      <td>2019-08-20T19:56:21.139Z</td>\n",
       "      <td>206</td>\n",
       "      <td>500+ downloads</td>\n",
       "      <td>com.hitlabs.pronto</td>\n",
       "    </tr>\n",
       "    <tr>\n",
       "      <th>1</th>\n",
       "      <td>1.0.262</td>\n",
       "      <td>2019-08-20T19:56:21.139Z</td>\n",
       "      <td>167</td>\n",
       "      <td>500+ downloads</td>\n",
       "      <td>com.hitlabs.pronto</td>\n",
       "    </tr>\n",
       "    <tr>\n",
       "      <th>2</th>\n",
       "      <td>1.0.262</td>\n",
       "      <td>2019-08-20T19:56:21.139Z</td>\n",
       "      <td>27</td>\n",
       "      <td>500+ downloads</td>\n",
       "      <td>com.hitlabs.pronto</td>\n",
       "    </tr>\n",
       "  </tbody>\n",
       "</table>\n",
       "</div>"
      ],
      "text/plain": [
       "   version                updated_at  tracker_id       downloads  \\\n",
       "0  1.0.262  2019-08-20T19:56:21.139Z         206  500+ downloads   \n",
       "1  1.0.262  2019-08-20T19:56:21.139Z         167  500+ downloads   \n",
       "2  1.0.262  2019-08-20T19:56:21.139Z          27  500+ downloads   \n",
       "\n",
       "               handle  \n",
       "0  com.hitlabs.pronto  \n",
       "1  com.hitlabs.pronto  \n",
       "2  com.hitlabs.pronto  "
      ]
     },
     "execution_count": 10,
     "metadata": {},
     "output_type": "execute_result"
    }
   ],
   "source": [
    "df.head(3)"
   ]
  },
  {
   "cell_type": "code",
   "execution_count": 11,
   "metadata": {},
   "outputs": [],
   "source": [
    "df= df.set_index('tracker_id').join(tracker_data,how='left').reset_index()"
   ]
  },
  {
   "cell_type": "code",
   "execution_count": 18,
   "metadata": {},
   "outputs": [],
   "source": [
    "final = df.set_index('handle').join(app_data,how='left').reset_index().sort_values(by='handle')"
   ]
  },
  {
   "cell_type": "code",
   "execution_count": null,
   "metadata": {},
   "outputs": [],
   "source": []
  }
 ],
 "metadata": {
  "kernelspec": {
   "display_name": "Python 3",
   "language": "python",
   "name": "python3"
  },
  "language_info": {
   "codemirror_mode": {
    "name": "ipython",
    "version": 3
   },
   "file_extension": ".py",
   "mimetype": "text/x-python",
   "name": "python",
   "nbconvert_exporter": "python",
   "pygments_lexer": "ipython3",
   "version": "3.7.4"
  }
 },
 "nbformat": 4,
 "nbformat_minor": 4
}
